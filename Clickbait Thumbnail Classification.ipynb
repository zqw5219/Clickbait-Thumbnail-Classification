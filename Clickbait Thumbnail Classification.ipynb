{
 "cells": [
  {
   "cell_type": "markdown",
   "metadata": {},
   "source": [
    "# Clickbait Thumbnail Classification"
   ]
  },
  {
   "cell_type": "markdown",
   "metadata": {},
   "source": [
    "# Import libararies\n"
   ]
  },
  {
   "cell_type": "code",
   "execution_count": 2,
   "metadata": {},
   "outputs": [],
   "source": [
    "import numpy as np \n",
    "import pandas as pd\n",
    "import string\n",
    "from sklearn.feature_extraction.text import TfidfVectorizer\n",
    "from sklearn import preprocessing\n",
    "from sklearn.naive_bayes import MultinomialNB\n",
    "from sklearn.metrics import f1_score\n"
   ]
  },
  {
   "cell_type": "markdown",
   "metadata": {},
   "source": [
    "# Read in file"
   ]
  },
  {
   "cell_type": "code",
   "execution_count": 3,
   "metadata": {},
   "outputs": [
    {
     "data": {
      "text/html": [
       "<div>\n",
       "<style scoped>\n",
       "    .dataframe tbody tr th:only-of-type {\n",
       "        vertical-align: middle;\n",
       "    }\n",
       "\n",
       "    .dataframe tbody tr th {\n",
       "        vertical-align: top;\n",
       "    }\n",
       "\n",
       "    .dataframe thead th {\n",
       "        text-align: right;\n",
       "    }\n",
       "</style>\n",
       "<table border=\"1\" class=\"dataframe\">\n",
       "  <thead>\n",
       "    <tr style=\"text-align: right;\">\n",
       "      <th></th>\n",
       "      <th>ID</th>\n",
       "      <th>title</th>\n",
       "      <th>description</th>\n",
       "      <th>timestamp</th>\n",
       "      <th>viewCount</th>\n",
       "      <th>likeCount</th>\n",
       "      <th>dislikeCount</th>\n",
       "      <th>commentCount</th>\n",
       "      <th>user_comment_1</th>\n",
       "      <th>user_comment_2</th>\n",
       "      <th>user_comment_3</th>\n",
       "      <th>user_comment_4</th>\n",
       "      <th>user_comment_5</th>\n",
       "      <th>user_comment_6</th>\n",
       "      <th>user_comment_7</th>\n",
       "      <th>user_comment_8</th>\n",
       "      <th>user_comment_9</th>\n",
       "      <th>user_comment_10</th>\n",
       "      <th>URL</th>\n",
       "      <th>class</th>\n",
       "    </tr>\n",
       "  </thead>\n",
       "  <tbody>\n",
       "    <tr>\n",
       "      <th>0</th>\n",
       "      <td>wutdQ_kzNn0</td>\n",
       "      <td>MARZIA HAS LIGMA LWIAY #0044</td>\n",
       "      <td>Become Sponsor: https://youtube.com/pewdiepie/...</td>\n",
       "      <td>2018-08-03T17:45:01.000Z</td>\n",
       "      <td>10509398.0</td>\n",
       "      <td>945921.0</td>\n",
       "      <td>5614.0</td>\n",
       "      <td>58844</td>\n",
       "      <td>Other man: *touches Marzia's hand*\\nPewds: som...</td>\n",
       "      <td>**marzia is in a video**\\n\\n**pewds quality in...</td>\n",
       "      <td>8:51 Proof that Italians do the hand thing whe...</td>\n",
       "      <td>Me: Mom can we have LWIAY intro?\\nMom: No, we ...</td>\n",
       "      <td>Nobody:\\nYoutube: Let's recommend this video 9...</td>\n",
       "      <td>Felix you did not disappoint with that outro</td>\n",
       "      <td>belle delphine: eats pewdiepie\\n\\n\\nMarzia: SO...</td>\n",
       "      <td>The Italian words pewds said roughly translate...</td>\n",
       "      <td>Marzia- how about watching old videos \\n\\nMe i...</td>\n",
       "      <td>outro: *Fire*\\nscreen: *black*\\nFelix: is that...</td>\n",
       "      <td>https://www.youtube.com/watch?v=wutdQ_kzNn0</td>\n",
       "      <td>True</td>\n",
       "    </tr>\n",
       "    <tr>\n",
       "      <th>1</th>\n",
       "      <td>WVaLM-kIZgg</td>\n",
       "      <td>This Slinky Montage Is Bizarrely Satisfying to...</td>\n",
       "      <td>Happy National Slinky Day! We got our hands on...</td>\n",
       "      <td>2018-08-30T12:00:09.000Z</td>\n",
       "      <td>4829.0</td>\n",
       "      <td>57.0</td>\n",
       "      <td>81.0</td>\n",
       "      <td>22</td>\n",
       "      <td>neither bizarre nor satisfying. barely watchab...</td>\n",
       "      <td>You could have just played the scene from Ace ...</td>\n",
       "      <td>When the new toy in the office becomes everybo...</td>\n",
       "      <td>Almost so satisfying, slinky occasionally land...</td>\n",
       "      <td>There is something strangely satisfying in wat...</td>\n",
       "      <td>Now that I think of it, slinkys are insanely w...</td>\n",
       "      <td>S L I N K Y P O R N</td>\n",
       "      <td>That stairwell is definitely coated in urine.</td>\n",
       "      <td>wtf has happened to your content</td>\n",
       "      <td>They're like unknown creatures moving down the...</td>\n",
       "      <td>https://www.youtube.com/watch?v=WVaLM-kIZgg</td>\n",
       "      <td>False</td>\n",
       "    </tr>\n",
       "    <tr>\n",
       "      <th>2</th>\n",
       "      <td>cKAKayQ4F9o</td>\n",
       "      <td>MAKING HER DREAM COME TRUE! (MAKE A WISH)</td>\n",
       "      <td>It was so nice to meet you Trinity 😊\\nGET NEW ...</td>\n",
       "      <td>2018-08-07T20:08:28.000Z</td>\n",
       "      <td>1015456.0</td>\n",
       "      <td>36679.0</td>\n",
       "      <td>492.0</td>\n",
       "      <td>3739</td>\n",
       "      <td>Follow me on Instagram @Lance210</td>\n",
       "      <td>Another proof you have a big heart ❤</td>\n",
       "      <td>She still has not used any of that money she i...</td>\n",
       "      <td>Im 12 my name is cyrus and i have severe asthm...</td>\n",
       "      <td>Lance is such a happy and productive person an...</td>\n",
       "      <td>I’ve had something called ugliness since I was...</td>\n",
       "      <td>I loved this u really made them girls day❤</td>\n",
       "      <td>The awkwardness was real😂😂😂!!!!!!</td>\n",
       "      <td>Awkward, but really cool u could do that for t...</td>\n",
       "      <td>GOD BLESS you Lance</td>\n",
       "      <td>https://www.youtube.com/watch?v=cKAKayQ4F9o</td>\n",
       "      <td>True</td>\n",
       "    </tr>\n",
       "    <tr>\n",
       "      <th>3</th>\n",
       "      <td>ZwqOoD17_LU</td>\n",
       "      <td>Science Journalism: Crash Course Statistics #11</td>\n",
       "      <td>We’ve talked a lot in this series about how of...</td>\n",
       "      <td>2018-04-11T21:00:03.000Z</td>\n",
       "      <td>64629.0</td>\n",
       "      <td>2111.0</td>\n",
       "      <td>24.0</td>\n",
       "      <td>151</td>\n",
       "      <td>It's not as simple as \"checking the source\". M...</td>\n",
       "      <td>This should go into media literacy, I think, i...</td>\n",
       "      <td>This episode should be correlated with CrashCo...</td>\n",
       "      <td>There's Media Literacy in my Statistics! Nice ...</td>\n",
       "      <td>Ah! She is just lovely! Excellent episode.</td>\n",
       "      <td>Loved the limerick.</td>\n",
       "      <td>Article: \"a study found a mild correlation bet...</td>\n",
       "      <td>Videos like this should absolutely be regular ...</td>\n",
       "      <td>Love the poetry :-)\\nIt's important to know wh...</td>\n",
       "      <td>Bonus points for \"Partial Foods.\"</td>\n",
       "      <td>https://www.youtube.com/watch?v=ZwqOoD17_LU</td>\n",
       "      <td>False</td>\n",
       "    </tr>\n",
       "    <tr>\n",
       "      <th>4</th>\n",
       "      <td>MhXDnHIOP9w</td>\n",
       "      <td>Michelin and General Motors Unveil Airless, Pu...</td>\n",
       "      <td>Michelin and General Motors are betting on nea...</td>\n",
       "      <td>2019-06-19T13:09:00.000Z</td>\n",
       "      <td>206468.0</td>\n",
       "      <td>1335.0</td>\n",
       "      <td>96.0</td>\n",
       "      <td>470</td>\n",
       "      <td>Perfect can get spike stripped and still outru...</td>\n",
       "      <td>The tires have been in development for so long...</td>\n",
       "      <td>How will they do on side loads, like high spee...</td>\n",
       "      <td>Michelin chill out, I work in roadside assista...</td>\n",
       "      <td>They look good but I hope it's enough to hold ...</td>\n",
       "      <td>When you fail to present the downsides, you ju...</td>\n",
       "      <td>I am definitely going to pick up a set of thes...</td>\n",
       "      <td>Yeah but the real questions are; how much road...</td>\n",
       "      <td>They give in a lot. At least it looks like it....</td>\n",
       "      <td>We've seen various versions of this concept fo...</td>\n",
       "      <td>https://www.youtube.com/watch?v=MhXDnHIOP9w</td>\n",
       "      <td>False</td>\n",
       "    </tr>\n",
       "  </tbody>\n",
       "</table>\n",
       "</div>"
      ],
      "text/plain": [
       "            ID                                              title  \\\n",
       "0  wutdQ_kzNn0                       MARZIA HAS LIGMA LWIAY #0044   \n",
       "1  WVaLM-kIZgg  This Slinky Montage Is Bizarrely Satisfying to...   \n",
       "2  cKAKayQ4F9o          MAKING HER DREAM COME TRUE! (MAKE A WISH)   \n",
       "3  ZwqOoD17_LU    Science Journalism: Crash Course Statistics #11   \n",
       "4  MhXDnHIOP9w  Michelin and General Motors Unveil Airless, Pu...   \n",
       "\n",
       "                                         description  \\\n",
       "0  Become Sponsor: https://youtube.com/pewdiepie/...   \n",
       "1  Happy National Slinky Day! We got our hands on...   \n",
       "2  It was so nice to meet you Trinity 😊\\nGET NEW ...   \n",
       "3  We’ve talked a lot in this series about how of...   \n",
       "4  Michelin and General Motors are betting on nea...   \n",
       "\n",
       "                  timestamp   viewCount  likeCount  dislikeCount  \\\n",
       "0  2018-08-03T17:45:01.000Z  10509398.0   945921.0        5614.0   \n",
       "1  2018-08-30T12:00:09.000Z      4829.0       57.0          81.0   \n",
       "2  2018-08-07T20:08:28.000Z   1015456.0    36679.0         492.0   \n",
       "3  2018-04-11T21:00:03.000Z     64629.0     2111.0          24.0   \n",
       "4  2019-06-19T13:09:00.000Z    206468.0     1335.0          96.0   \n",
       "\n",
       "   commentCount                                     user_comment_1  \\\n",
       "0         58844  Other man: *touches Marzia's hand*\\nPewds: som...   \n",
       "1            22  neither bizarre nor satisfying. barely watchab...   \n",
       "2          3739                   Follow me on Instagram @Lance210   \n",
       "3           151  It's not as simple as \"checking the source\". M...   \n",
       "4           470  Perfect can get spike stripped and still outru...   \n",
       "\n",
       "                                      user_comment_2  \\\n",
       "0  **marzia is in a video**\\n\\n**pewds quality in...   \n",
       "1  You could have just played the scene from Ace ...   \n",
       "2               Another proof you have a big heart ❤   \n",
       "3  This should go into media literacy, I think, i...   \n",
       "4  The tires have been in development for so long...   \n",
       "\n",
       "                                      user_comment_3  \\\n",
       "0  8:51 Proof that Italians do the hand thing whe...   \n",
       "1  When the new toy in the office becomes everybo...   \n",
       "2  She still has not used any of that money she i...   \n",
       "3  This episode should be correlated with CrashCo...   \n",
       "4  How will they do on side loads, like high spee...   \n",
       "\n",
       "                                      user_comment_4  \\\n",
       "0  Me: Mom can we have LWIAY intro?\\nMom: No, we ...   \n",
       "1  Almost so satisfying, slinky occasionally land...   \n",
       "2  Im 12 my name is cyrus and i have severe asthm...   \n",
       "3  There's Media Literacy in my Statistics! Nice ...   \n",
       "4  Michelin chill out, I work in roadside assista...   \n",
       "\n",
       "                                      user_comment_5  \\\n",
       "0  Nobody:\\nYoutube: Let's recommend this video 9...   \n",
       "1  There is something strangely satisfying in wat...   \n",
       "2  Lance is such a happy and productive person an...   \n",
       "3         Ah! She is just lovely! Excellent episode.   \n",
       "4  They look good but I hope it's enough to hold ...   \n",
       "\n",
       "                                      user_comment_6  \\\n",
       "0       Felix you did not disappoint with that outro   \n",
       "1  Now that I think of it, slinkys are insanely w...   \n",
       "2  I’ve had something called ugliness since I was...   \n",
       "3                                Loved the limerick.   \n",
       "4  When you fail to present the downsides, you ju...   \n",
       "\n",
       "                                      user_comment_7  \\\n",
       "0  belle delphine: eats pewdiepie\\n\\n\\nMarzia: SO...   \n",
       "1                                S L I N K Y P O R N   \n",
       "2         I loved this u really made them girls day❤   \n",
       "3  Article: \"a study found a mild correlation bet...   \n",
       "4  I am definitely going to pick up a set of thes...   \n",
       "\n",
       "                                      user_comment_8  \\\n",
       "0  The Italian words pewds said roughly translate...   \n",
       "1      That stairwell is definitely coated in urine.   \n",
       "2                  The awkwardness was real😂😂😂!!!!!!   \n",
       "3  Videos like this should absolutely be regular ...   \n",
       "4  Yeah but the real questions are; how much road...   \n",
       "\n",
       "                                      user_comment_9  \\\n",
       "0  Marzia- how about watching old videos \\n\\nMe i...   \n",
       "1                   wtf has happened to your content   \n",
       "2  Awkward, but really cool u could do that for t...   \n",
       "3  Love the poetry :-)\\nIt's important to know wh...   \n",
       "4  They give in a lot. At least it looks like it....   \n",
       "\n",
       "                                     user_comment_10  \\\n",
       "0  outro: *Fire*\\nscreen: *black*\\nFelix: is that...   \n",
       "1  They're like unknown creatures moving down the...   \n",
       "2                                GOD BLESS you Lance   \n",
       "3                  Bonus points for \"Partial Foods.\"   \n",
       "4  We've seen various versions of this concept fo...   \n",
       "\n",
       "                                           URL  class  \n",
       "0  https://www.youtube.com/watch?v=wutdQ_kzNn0   True  \n",
       "1  https://www.youtube.com/watch?v=WVaLM-kIZgg  False  \n",
       "2  https://www.youtube.com/watch?v=cKAKayQ4F9o   True  \n",
       "3  https://www.youtube.com/watch?v=ZwqOoD17_LU  False  \n",
       "4  https://www.youtube.com/watch?v=MhXDnHIOP9w  False  "
      ]
     },
     "execution_count": 3,
     "metadata": {},
     "output_type": "execute_result"
    }
   ],
   "source": [
    "train = pd.read_csv('/Users/ziyu/Desktop/proj1-for-students/train.csv')\n",
    "train.head()"
   ]
  },
  {
   "cell_type": "code",
   "execution_count": 4,
   "metadata": {},
   "outputs": [
    {
     "data": {
      "text/html": [
       "<div>\n",
       "<style scoped>\n",
       "    .dataframe tbody tr th:only-of-type {\n",
       "        vertical-align: middle;\n",
       "    }\n",
       "\n",
       "    .dataframe tbody tr th {\n",
       "        vertical-align: top;\n",
       "    }\n",
       "\n",
       "    .dataframe thead th {\n",
       "        text-align: right;\n",
       "    }\n",
       "</style>\n",
       "<table border=\"1\" class=\"dataframe\">\n",
       "  <thead>\n",
       "    <tr style=\"text-align: right;\">\n",
       "      <th></th>\n",
       "      <th>ID</th>\n",
       "      <th>title</th>\n",
       "      <th>description</th>\n",
       "      <th>timestamp</th>\n",
       "      <th>viewCount</th>\n",
       "      <th>likeCount</th>\n",
       "      <th>dislikeCount</th>\n",
       "      <th>commentCount</th>\n",
       "      <th>user_comment_1</th>\n",
       "      <th>user_comment_2</th>\n",
       "      <th>user_comment_3</th>\n",
       "      <th>user_comment_4</th>\n",
       "      <th>user_comment_5</th>\n",
       "      <th>user_comment_6</th>\n",
       "      <th>user_comment_7</th>\n",
       "      <th>user_comment_8</th>\n",
       "      <th>user_comment_9</th>\n",
       "      <th>user_comment_10</th>\n",
       "      <th>URL</th>\n",
       "    </tr>\n",
       "  </thead>\n",
       "  <tbody>\n",
       "    <tr>\n",
       "      <th>0</th>\n",
       "      <td>oRB8lJynqBA</td>\n",
       "      <td>Fisherman Catches Never-Before-Seen Sea Creatu...</td>\n",
       "      <td>Fishing results in some lucky catches and some...</td>\n",
       "      <td>2018-08-28T20:00:02.000Z</td>\n",
       "      <td>137551.0</td>\n",
       "      <td>2810.0</td>\n",
       "      <td>184.0</td>\n",
       "      <td>242</td>\n",
       "      <td>I love to go fishing but to catch that no thanks</td>\n",
       "      <td>Brilliant. Nightmares for me tonight ! ! !</td>\n",
       "      <td>I actually saw a Black Scabbardfish in Madeira...</td>\n",
       "      <td>Is it Spongebob?? Oh nope</td>\n",
       "      <td>When you're early but you don't know what to say😐</td>\n",
       "      <td>Our oceans are really mysterious.</td>\n",
       "      <td>You are my fav channel I subbed  and hit the b...</td>\n",
       "      <td>20 views and 80 likes yt logic</td>\n",
       "      <td>Well that's enough YouTube for me</td>\n",
       "      <td>Ohhhhhh. Early 👌🏼😁</td>\n",
       "      <td>https://www.youtube.com/watch?v=oRB8lJynqBA</td>\n",
       "    </tr>\n",
       "    <tr>\n",
       "      <th>1</th>\n",
       "      <td>of-UPoEnw_w</td>\n",
       "      <td>Card Throwing Speed Test</td>\n",
       "      <td>In this bonus footage, Dan takes on Rick Smith...</td>\n",
       "      <td>2018-03-23T16:00:07.000Z</td>\n",
       "      <td>1158511.0</td>\n",
       "      <td>26708.0</td>\n",
       "      <td>572.0</td>\n",
       "      <td>425</td>\n",
       "      <td>So much fun working with The Slo-Mo Guys! Than...</td>\n",
       "      <td>The way his hand twisted is so amazing to see!</td>\n",
       "      <td>am i the only one that misses the insane low s...</td>\n",
       "      <td>How many more videos do we get? (not complaining)</td>\n",
       "      <td>I hope they play their cards right!</td>\n",
       "      <td>Does anyone else miss the little music that pl...</td>\n",
       "      <td>loading videos in slow mo</td>\n",
       "      <td>he didnt get the melon</td>\n",
       "      <td>0:31 is he bowling leg spin😀</td>\n",
       "      <td>The notifications brought me to a playlist tha...</td>\n",
       "      <td>https://www.youtube.com/watch?v=of-UPoEnw_w</td>\n",
       "    </tr>\n",
       "    <tr>\n",
       "      <th>2</th>\n",
       "      <td>d28cz00HHto</td>\n",
       "      <td>Nintendo Labo for Switch | Circuit Breaker Live</td>\n",
       "      <td>On the season finale of Circuit Breaker, we ar...</td>\n",
       "      <td>2018-04-24T20:54:38.000Z</td>\n",
       "      <td>19861.0</td>\n",
       "      <td>326.0</td>\n",
       "      <td>40.0</td>\n",
       "      <td>34</td>\n",
       "      <td>I'll miss this show a lot. Your other content ...</td>\n",
       "      <td>This was the best thing the Verge has done. Ve...</td>\n",
       "      <td>I do like having longer shows. It's nice becau...</td>\n",
       "      <td>Disappointed to see this show end. A fun, casu...</td>\n",
       "      <td>This show came and went fast</td>\n",
       "      <td>The Verge feels like it's changing so much...</td>\n",
       "      <td>Why is this over?! NOOO</td>\n",
       "      <td>Like 90 second on the verge that was an awesom...</td>\n",
       "      <td>YAAAYYY!!! DAMI LEE IS BACK!!!!</td>\n",
       "      <td>You guys kill video shows more than google kil...</td>\n",
       "      <td>https://www.youtube.com/watch?v=d28cz00HHto</td>\n",
       "    </tr>\n",
       "    <tr>\n",
       "      <th>3</th>\n",
       "      <td>Tftg_LnwTW0</td>\n",
       "      <td>Gym Logic! (These Make No Sense)</td>\n",
       "      <td>Send Video Ideas: ReactionTimeVideos@gmail.com...</td>\n",
       "      <td>2018-05-28T20:15:00.000Z</td>\n",
       "      <td>1562674.0</td>\n",
       "      <td>45858.0</td>\n",
       "      <td>887.0</td>\n",
       "      <td>3328</td>\n",
       "      <td>C4N Y0U R34D THIS ??\\n\\nL34V3 4 L1K3 PL34S3 😊</td>\n",
       "      <td>Wiggle\\r\\n Wiggle\\r\\n  Wiggle\\r\\n    Wiggle\\r\\...</td>\n",
       "      <td>Guys I have a theory \\n\\n\\n\\n\\n\\n\\n\\n\\n\\n\\n\\n\\...</td>\n",
       "      <td>Anthony: smack that like button!!!\\n\\nMe: *sma...</td>\n",
       "      <td>I love leg day\\n\\n\\n\\n\\n\\n\\n\\nIm going to like...</td>\n",
       "      <td>Diet logic: \\nHave a healthy day\\nHave chocola...</td>\n",
       "      <td>Did anyone notice the power puff girl chairs</td>\n",
       "      <td>Do you want to know who's beautiful?\\n\\n\\n\\n\\n...</td>\n",
       "      <td>\"You can't hurt your legs if you don't lift th...</td>\n",
       "      <td>Awwwww Anthony looks adorable in that!! 😆💙💙</td>\n",
       "      <td>https://www.youtube.com/watch?v=Tftg_LnwTW0</td>\n",
       "    </tr>\n",
       "    <tr>\n",
       "      <th>4</th>\n",
       "      <td>qR0mkm65Whk</td>\n",
       "      <td>Worst Things That Happened At Walmart!</td>\n",
       "      <td>Send Video Ideas: ReactionTimeVideos@gmail.com...</td>\n",
       "      <td>2018-03-20T23:30:01.000Z</td>\n",
       "      <td>4873500.0</td>\n",
       "      <td>59900.0</td>\n",
       "      <td>1490.0</td>\n",
       "      <td>7388</td>\n",
       "      <td>my grandma died at Walmart r.i.p my grandma 19...</td>\n",
       "      <td>2019???\\nIf you see dis you need to like right...</td>\n",
       "      <td>Wallmart?More like Hellmart</td>\n",
       "      <td>Something scary that can happen in Walmart is....</td>\n",
       "      <td>Screw Wal-Mart I'm going to target now 😖😖😞😞</td>\n",
       "      <td>Who else is stuck reading the comments\\n\\n    ...</td>\n",
       "      <td>What's worse than Wal-Mart when it's Black Fri...</td>\n",
       "      <td>No more Walmart 😂😂😁\\n\\n\\n\\n\\n\\n\\n\\nSike that w...</td>\n",
       "      <td>Scariest thing to happen at Walmart\\n\\n\\n\\n\\n\\...</td>\n",
       "      <td>Stop it \\n\\n\\n\\n\\n\\nGet some help \\n\\nLOL</td>\n",
       "      <td>https://www.youtube.com/watch?v=qR0mkm65Whk</td>\n",
       "    </tr>\n",
       "  </tbody>\n",
       "</table>\n",
       "</div>"
      ],
      "text/plain": [
       "            ID                                              title  \\\n",
       "0  oRB8lJynqBA  Fisherman Catches Never-Before-Seen Sea Creatu...   \n",
       "1  of-UPoEnw_w                           Card Throwing Speed Test   \n",
       "2  d28cz00HHto    Nintendo Labo for Switch | Circuit Breaker Live   \n",
       "3  Tftg_LnwTW0                   Gym Logic! (These Make No Sense)   \n",
       "4  qR0mkm65Whk             Worst Things That Happened At Walmart!   \n",
       "\n",
       "                                         description  \\\n",
       "0  Fishing results in some lucky catches and some...   \n",
       "1  In this bonus footage, Dan takes on Rick Smith...   \n",
       "2  On the season finale of Circuit Breaker, we ar...   \n",
       "3  Send Video Ideas: ReactionTimeVideos@gmail.com...   \n",
       "4  Send Video Ideas: ReactionTimeVideos@gmail.com...   \n",
       "\n",
       "                  timestamp  viewCount  likeCount  dislikeCount  commentCount  \\\n",
       "0  2018-08-28T20:00:02.000Z   137551.0     2810.0         184.0           242   \n",
       "1  2018-03-23T16:00:07.000Z  1158511.0    26708.0         572.0           425   \n",
       "2  2018-04-24T20:54:38.000Z    19861.0      326.0          40.0            34   \n",
       "3  2018-05-28T20:15:00.000Z  1562674.0    45858.0         887.0          3328   \n",
       "4  2018-03-20T23:30:01.000Z  4873500.0    59900.0        1490.0          7388   \n",
       "\n",
       "                                      user_comment_1  \\\n",
       "0   I love to go fishing but to catch that no thanks   \n",
       "1  So much fun working with The Slo-Mo Guys! Than...   \n",
       "2  I'll miss this show a lot. Your other content ...   \n",
       "3      C4N Y0U R34D THIS ??\\n\\nL34V3 4 L1K3 PL34S3 😊   \n",
       "4  my grandma died at Walmart r.i.p my grandma 19...   \n",
       "\n",
       "                                      user_comment_2  \\\n",
       "0         Brilliant. Nightmares for me tonight ! ! !   \n",
       "1     The way his hand twisted is so amazing to see!   \n",
       "2  This was the best thing the Verge has done. Ve...   \n",
       "3  Wiggle\\r\\n Wiggle\\r\\n  Wiggle\\r\\n    Wiggle\\r\\...   \n",
       "4  2019???\\nIf you see dis you need to like right...   \n",
       "\n",
       "                                      user_comment_3  \\\n",
       "0  I actually saw a Black Scabbardfish in Madeira...   \n",
       "1  am i the only one that misses the insane low s...   \n",
       "2  I do like having longer shows. It's nice becau...   \n",
       "3  Guys I have a theory \\n\\n\\n\\n\\n\\n\\n\\n\\n\\n\\n\\n\\...   \n",
       "4                        Wallmart?More like Hellmart   \n",
       "\n",
       "                                      user_comment_4  \\\n",
       "0                          Is it Spongebob?? Oh nope   \n",
       "1  How many more videos do we get? (not complaining)   \n",
       "2  Disappointed to see this show end. A fun, casu...   \n",
       "3  Anthony: smack that like button!!!\\n\\nMe: *sma...   \n",
       "4  Something scary that can happen in Walmart is....   \n",
       "\n",
       "                                      user_comment_5  \\\n",
       "0  When you're early but you don't know what to say😐   \n",
       "1                I hope they play their cards right!   \n",
       "2                       This show came and went fast   \n",
       "3  I love leg day\\n\\n\\n\\n\\n\\n\\n\\nIm going to like...   \n",
       "4        Screw Wal-Mart I'm going to target now 😖😖😞😞   \n",
       "\n",
       "                                      user_comment_6  \\\n",
       "0                  Our oceans are really mysterious.   \n",
       "1  Does anyone else miss the little music that pl...   \n",
       "2      The Verge feels like it's changing so much...   \n",
       "3  Diet logic: \\nHave a healthy day\\nHave chocola...   \n",
       "4  Who else is stuck reading the comments\\n\\n    ...   \n",
       "\n",
       "                                      user_comment_7  \\\n",
       "0  You are my fav channel I subbed  and hit the b...   \n",
       "1                          loading videos in slow mo   \n",
       "2                            Why is this over?! NOOO   \n",
       "3       Did anyone notice the power puff girl chairs   \n",
       "4  What's worse than Wal-Mart when it's Black Fri...   \n",
       "\n",
       "                                      user_comment_8  \\\n",
       "0                     20 views and 80 likes yt logic   \n",
       "1                             he didnt get the melon   \n",
       "2  Like 90 second on the verge that was an awesom...   \n",
       "3  Do you want to know who's beautiful?\\n\\n\\n\\n\\n...   \n",
       "4  No more Walmart 😂😂😁\\n\\n\\n\\n\\n\\n\\n\\nSike that w...   \n",
       "\n",
       "                                      user_comment_9  \\\n",
       "0                  Well that's enough YouTube for me   \n",
       "1                       0:31 is he bowling leg spin😀   \n",
       "2                    YAAAYYY!!! DAMI LEE IS BACK!!!!   \n",
       "3  \"You can't hurt your legs if you don't lift th...   \n",
       "4  Scariest thing to happen at Walmart\\n\\n\\n\\n\\n\\...   \n",
       "\n",
       "                                     user_comment_10  \\\n",
       "0                                 Ohhhhhh. Early 👌🏼😁   \n",
       "1  The notifications brought me to a playlist tha...   \n",
       "2  You guys kill video shows more than google kil...   \n",
       "3        Awwwww Anthony looks adorable in that!! 😆💙💙   \n",
       "4          Stop it \\n\\n\\n\\n\\n\\nGet some help \\n\\nLOL   \n",
       "\n",
       "                                           URL  \n",
       "0  https://www.youtube.com/watch?v=oRB8lJynqBA  \n",
       "1  https://www.youtube.com/watch?v=of-UPoEnw_w  \n",
       "2  https://www.youtube.com/watch?v=d28cz00HHto  \n",
       "3  https://www.youtube.com/watch?v=Tftg_LnwTW0  \n",
       "4  https://www.youtube.com/watch?v=qR0mkm65Whk  "
      ]
     },
     "execution_count": 4,
     "metadata": {},
     "output_type": "execute_result"
    }
   ],
   "source": [
    "test = pd.read_csv('/Users/ziyu/Desktop/proj1-for-students/test_1.csv')\n",
    "test.head()"
   ]
  },
  {
   "cell_type": "code",
   "execution_count": 5,
   "metadata": {},
   "outputs": [
    {
     "name": "stdout",
     "output_type": "stream",
     "text": [
      "<class 'pandas.core.frame.DataFrame'>\n",
      "RangeIndex: 7105 entries, 0 to 7104\n",
      "Data columns (total 20 columns):\n",
      " #   Column           Non-Null Count  Dtype  \n",
      "---  ------           --------------  -----  \n",
      " 0   ID               7105 non-null   object \n",
      " 1   title            7105 non-null   object \n",
      " 2   description      7105 non-null   object \n",
      " 3   timestamp        7105 non-null   object \n",
      " 4   viewCount        7105 non-null   float64\n",
      " 5   likeCount        7105 non-null   float64\n",
      " 6   dislikeCount     7105 non-null   float64\n",
      " 7   commentCount     7105 non-null   int64  \n",
      " 8   user_comment_1   7105 non-null   object \n",
      " 9   user_comment_2   7105 non-null   object \n",
      " 10  user_comment_3   7105 non-null   object \n",
      " 11  user_comment_4   7105 non-null   object \n",
      " 12  user_comment_5   7105 non-null   object \n",
      " 13  user_comment_6   7105 non-null   object \n",
      " 14  user_comment_7   7105 non-null   object \n",
      " 15  user_comment_8   7105 non-null   object \n",
      " 16  user_comment_9   7105 non-null   object \n",
      " 17  user_comment_10  7105 non-null   object \n",
      " 18  URL              7105 non-null   object \n",
      " 19  class            7105 non-null   bool   \n",
      "dtypes: bool(1), float64(3), int64(1), object(15)\n",
      "memory usage: 1.0+ MB\n"
     ]
    }
   ],
   "source": [
    "train.info()"
   ]
  },
  {
   "cell_type": "code",
   "execution_count": 6,
   "metadata": {},
   "outputs": [
    {
     "name": "stdout",
     "output_type": "stream",
     "text": [
      "<class 'pandas.core.frame.DataFrame'>\n",
      "RangeIndex: 646 entries, 0 to 645\n",
      "Data columns (total 19 columns):\n",
      " #   Column           Non-Null Count  Dtype  \n",
      "---  ------           --------------  -----  \n",
      " 0   ID               646 non-null    object \n",
      " 1   title            646 non-null    object \n",
      " 2   description      646 non-null    object \n",
      " 3   timestamp        646 non-null    object \n",
      " 4   viewCount        646 non-null    float64\n",
      " 5   likeCount        646 non-null    float64\n",
      " 6   dislikeCount     646 non-null    float64\n",
      " 7   commentCount     646 non-null    int64  \n",
      " 8   user_comment_1   646 non-null    object \n",
      " 9   user_comment_2   646 non-null    object \n",
      " 10  user_comment_3   646 non-null    object \n",
      " 11  user_comment_4   646 non-null    object \n",
      " 12  user_comment_5   646 non-null    object \n",
      " 13  user_comment_6   646 non-null    object \n",
      " 14  user_comment_7   646 non-null    object \n",
      " 15  user_comment_8   646 non-null    object \n",
      " 16  user_comment_9   646 non-null    object \n",
      " 17  user_comment_10  646 non-null    object \n",
      " 18  URL              646 non-null    object \n",
      "dtypes: float64(3), int64(1), object(15)\n",
      "memory usage: 96.0+ KB\n"
     ]
    }
   ],
   "source": [
    "test.info()"
   ]
  },
  {
   "cell_type": "markdown",
   "metadata": {},
   "source": [
    "# Categorical variables"
   ]
  },
  {
   "cell_type": "markdown",
   "metadata": {},
   "source": [
    "## Join the title and description"
   ]
  },
  {
   "cell_type": "code",
   "execution_count": 7,
   "metadata": {},
   "outputs": [
    {
     "data": {
      "text/plain": [
       "<bound method Series.count of 0       MARZIA HAS LIGMA LWIAY #0044 Become Sponsor: h...\n",
       "1       This Slinky Montage Is Bizarrely Satisfying to...\n",
       "2       MAKING HER DREAM COME TRUE! (MAKE A WISH) It w...\n",
       "3       Science Journalism: Crash Course Statistics #1...\n",
       "4       Michelin and General Motors Unveil Airless, Pu...\n",
       "                              ...                        \n",
       "7100    A Relaxing Time With Just For Men Please subsc...\n",
       "7101    Scientists Prove Beer Lovers May Be Healthier ...\n",
       "7102    THE EVOLUTION OF FORTNITE! 2011 - 2019 Reactin...\n",
       "7103    India's trucks are works of art Why India’s tr...\n",
       "7104    Several airlines change flight routes after Ir...\n",
       "Length: 7105, dtype: object>"
      ]
     },
     "execution_count": 7,
     "metadata": {},
     "output_type": "execute_result"
    }
   ],
   "source": [
    "train_text = train[['title','description']].apply(lambda x: ' '.join(x),axis=1)\n",
    "train_text.head()\n",
    "train_text.count"
   ]
  },
  {
   "cell_type": "code",
   "execution_count": 8,
   "metadata": {
    "scrolled": true
   },
   "outputs": [
    {
     "data": {
      "text/plain": [
       "<bound method Series.count of 0      Fisherman Catches Never-Before-Seen Sea Creatu...\n",
       "1      Card Throwing Speed Test In this bonus footage...\n",
       "2      Nintendo Labo for Switch | Circuit Breaker Liv...\n",
       "3      Gym Logic! (These Make No Sense) Send Video Id...\n",
       "4      Worst Things That Happened At Walmart! Send Vi...\n",
       "                             ...                        \n",
       "641    Homeless Person Gets Surprise Of Their Lifetim...\n",
       "642    A Farmer Thought He'd Found An Ancient Relic  ...\n",
       "643    Robbie's Voice-Activated Room Robbie has duche...\n",
       "644    Summer Vacation Is for Kids! Sign up for DROPO...\n",
       "645    10 RICHEST Fortnite Players In The World (Ninj...\n",
       "Length: 646, dtype: object>"
      ]
     },
     "execution_count": 8,
     "metadata": {},
     "output_type": "execute_result"
    }
   ],
   "source": [
    "test_text = test[['title','description']].apply(lambda x: ' '.join(x),axis=1)\n",
    "test_text.head()\n",
    "test_text.count"
   ]
  },
  {
   "cell_type": "markdown",
   "metadata": {},
   "source": [
    "### Change all the capital letters into lower letters"
   ]
  },
  {
   "cell_type": "code",
   "execution_count": 11,
   "metadata": {},
   "outputs": [
    {
     "name": "stdout",
     "output_type": "stream",
     "text": [
      "0       marzia has ligma lwiay #0044 become sponsor: h...\n",
      "1       this slinky montage is bizarrely satisfying to...\n",
      "2       making her dream come true! (make a wish) it w...\n",
      "3       science journalism: crash course statistics #1...\n",
      "4       michelin and general motors unveil airless, pu...\n",
      "                              ...                        \n",
      "7100    a relaxing time with just for men please subsc...\n",
      "7101    scientists prove beer lovers may be healthier ...\n",
      "7102    the evolution of fortnite! 2011 - 2019 reactin...\n",
      "7103    india's trucks are works of art why india’s tr...\n",
      "7104    several airlines change flight routes after ir...\n",
      "Length: 7105, dtype: object\n"
     ]
    }
   ],
   "source": [
    "train_text = train_text.apply(lambda x: x.lower())\n",
    "#print(train_text)"
   ]
  },
  {
   "cell_type": "code",
   "execution_count": 12,
   "metadata": {},
   "outputs": [
    {
     "name": "stdout",
     "output_type": "stream",
     "text": [
      "0      fisherman catches never-before-seen sea creatu...\n",
      "1      card throwing speed test in this bonus footage...\n",
      "2      nintendo labo for switch | circuit breaker liv...\n",
      "3      gym logic! (these make no sense) send video id...\n",
      "4      worst things that happened at walmart! send vi...\n",
      "                             ...                        \n",
      "641    homeless person gets surprise of their lifetim...\n",
      "642    a farmer thought he'd found an ancient relic  ...\n",
      "643    robbie's voice-activated room robbie has duche...\n",
      "644    summer vacation is for kids! sign up for dropo...\n",
      "645    10 richest fortnite players in the world (ninj...\n",
      "Length: 646, dtype: object\n"
     ]
    }
   ],
   "source": [
    "test_text = test_text.apply(lambda x: x.lower())\n",
    "#print(test_text)"
   ]
  },
  {
   "cell_type": "markdown",
   "metadata": {},
   "source": [
    "### Remove extra spaces"
   ]
  },
  {
   "cell_type": "code",
   "execution_count": 13,
   "metadata": {},
   "outputs": [
    {
     "name": "stdout",
     "output_type": "stream",
     "text": [
      "0       marzia has ligma lwiay #0044 become sponsor: h...\n",
      "1       this slinky montage is bizarrely satisfying to...\n",
      "2       making her dream come true! (make a wish) it w...\n",
      "3       science journalism: crash course statistics #1...\n",
      "4       michelin and general motors unveil airless, pu...\n",
      "                              ...                        \n",
      "7100    a relaxing time with just for men please subsc...\n",
      "7101    scientists prove beer lovers may be healthier ...\n",
      "7102    the evolution of fortnite! 2011 - 2019 reactin...\n",
      "7103    india's trucks are works of art why india’s tr...\n",
      "7104    several airlines change flight routes after ir...\n",
      "Length: 7105, dtype: object\n"
     ]
    }
   ],
   "source": [
    "train_text = train_text.apply(lambda x: x.strip())\n",
    "#print(train_text)"
   ]
  },
  {
   "cell_type": "code",
   "execution_count": 14,
   "metadata": {},
   "outputs": [
    {
     "name": "stdout",
     "output_type": "stream",
     "text": [
      "0      fisherman catches never-before-seen sea creatu...\n",
      "1      card throwing speed test in this bonus footage...\n",
      "2      nintendo labo for switch | circuit breaker liv...\n",
      "3      gym logic! (these make no sense) send video id...\n",
      "4      worst things that happened at walmart! send vi...\n",
      "                             ...                        \n",
      "641    homeless person gets surprise of their lifetim...\n",
      "642    a farmer thought he'd found an ancient relic  ...\n",
      "643    robbie's voice-activated room robbie has duche...\n",
      "644    summer vacation is for kids! sign up for dropo...\n",
      "645    10 richest fortnite players in the world (ninj...\n",
      "Length: 646, dtype: object\n"
     ]
    }
   ],
   "source": [
    "test_text = test_text.apply(lambda x: x.strip())\n",
    "#print(test_text)"
   ]
  },
  {
   "cell_type": "markdown",
   "metadata": {},
   "source": [
    "### Remove punctuation"
   ]
  },
  {
   "cell_type": "code",
   "execution_count": 15,
   "metadata": {},
   "outputs": [],
   "source": [
    "def remove_punctuation(text):\n",
    "    punt = \"\".join([i for i in text if i not in string.punctuation])\n",
    "    return punt"
   ]
  },
  {
   "cell_type": "code",
   "execution_count": 16,
   "metadata": {},
   "outputs": [
    {
     "name": "stdout",
     "output_type": "stream",
     "text": [
      "0       marzia has ligma lwiay 0044 become sponsor htt...\n",
      "1       this slinky montage is bizarrely satisfying to...\n",
      "2       making her dream come true make a wish it was ...\n",
      "3       science journalism crash course statistics 11 ...\n",
      "4       michelin and general motors unveil airless pun...\n",
      "                              ...                        \n",
      "7100    a relaxing time with just for men please subsc...\n",
      "7101    scientists prove beer lovers may be healthier ...\n",
      "7102    the evolution of fortnite 2011  2019 reacting ...\n",
      "7103    indias trucks are works of art why india’s tru...\n",
      "7104    several airlines change flight routes after ir...\n",
      "Length: 7105, dtype: object\n"
     ]
    }
   ],
   "source": [
    "train_text = train_text.apply(lambda x: remove_punctuation(x))\n",
    "#print(train_text)"
   ]
  },
  {
   "cell_type": "code",
   "execution_count": 17,
   "metadata": {},
   "outputs": [
    {
     "name": "stdout",
     "output_type": "stream",
     "text": [
      "0      fisherman catches neverbeforeseen sea creature...\n",
      "1      card throwing speed test in this bonus footage...\n",
      "2      nintendo labo for switch  circuit breaker live...\n",
      "3      gym logic these make no sense send video ideas...\n",
      "4      worst things that happened at walmart send vid...\n",
      "                             ...                        \n",
      "641    homeless person gets surprise of their lifetim...\n",
      "642    a farmer thought hed found an ancient relic  b...\n",
      "643    robbies voiceactivated room robbie has duchenn...\n",
      "644    summer vacation is for kids sign up for dropou...\n",
      "645    10 richest fortnite players in the world ninja...\n",
      "Length: 646, dtype: object\n"
     ]
    }
   ],
   "source": [
    "test_text = test_text.apply(lambda x: remove_punctuation(x))\n",
    "#print(test_text)"
   ]
  },
  {
   "cell_type": "markdown",
   "metadata": {},
   "source": [
    "### Remove digits"
   ]
  },
  {
   "cell_type": "code",
   "execution_count": 18,
   "metadata": {},
   "outputs": [],
   "source": [
    "def remove_digits(text):\n",
    "    digits = \"\".join([i for i in text if not i.isdigit()])\n",
    "    return digits"
   ]
  },
  {
   "cell_type": "code",
   "execution_count": 19,
   "metadata": {},
   "outputs": [
    {
     "name": "stdout",
     "output_type": "stream",
     "text": [
      "0       marzia has ligma lwiay  become sponsor httpsyo...\n",
      "1       this slinky montage is bizarrely satisfying to...\n",
      "2       making her dream come true make a wish it was ...\n",
      "3       science journalism crash course statistics  we...\n",
      "4       michelin and general motors unveil airless pun...\n",
      "                              ...                        \n",
      "7100    a relaxing time with just for men please subsc...\n",
      "7101    scientists prove beer lovers may be healthier ...\n",
      "7102    the evolution of fortnite    reacting to the e...\n",
      "7103    indias trucks are works of art why india’s tru...\n",
      "7104    several airlines change flight routes after ir...\n",
      "Length: 7105, dtype: object\n"
     ]
    }
   ],
   "source": [
    "train_text = train_text.apply(lambda x: remove_digits(x))\n",
    "#print(train_text)"
   ]
  },
  {
   "cell_type": "code",
   "execution_count": 20,
   "metadata": {},
   "outputs": [
    {
     "name": "stdout",
     "output_type": "stream",
     "text": [
      "0      fisherman catches neverbeforeseen sea creature...\n",
      "1      card throwing speed test in this bonus footage...\n",
      "2      nintendo labo for switch  circuit breaker live...\n",
      "3      gym logic these make no sense send video ideas...\n",
      "4      worst things that happened at walmart send vid...\n",
      "                             ...                        \n",
      "641    homeless person gets surprise of their lifetim...\n",
      "642    a farmer thought hed found an ancient relic  b...\n",
      "643    robbies voiceactivated room robbie has duchenn...\n",
      "644    summer vacation is for kids sign up for dropou...\n",
      "645     richest fortnite players in the world ninja t...\n",
      "Length: 646, dtype: object\n"
     ]
    }
   ],
   "source": [
    "test_text = test_text.apply(lambda x: remove_digits(x))\n",
    "#print(test_text)"
   ]
  },
  {
   "cell_type": "markdown",
   "metadata": {},
   "source": [
    "# Encode categorical variables"
   ]
  },
  {
   "cell_type": "code",
   "execution_count": 21,
   "metadata": {},
   "outputs": [],
   "source": [
    "x_train = train_text\n",
    "x_test = test_text\n",
    "y_train = train['class']"
   ]
  },
  {
   "cell_type": "code",
   "execution_count": 22,
   "metadata": {},
   "outputs": [
    {
     "name": "stdout",
     "output_type": "stream",
     "text": [
      "0        True\n",
      "1       False\n",
      "2        True\n",
      "3       False\n",
      "4       False\n",
      "        ...  \n",
      "7100    False\n",
      "7101     True\n",
      "7102     True\n",
      "7103    False\n",
      "7104    False\n",
      "Name: class, Length: 7105, dtype: bool\n"
     ]
    }
   ],
   "source": [
    "#print(y_train)"
   ]
  },
  {
   "cell_type": "code",
   "execution_count": 23,
   "metadata": {},
   "outputs": [
    {
     "name": "stdout",
     "output_type": "stream",
     "text": [
      "0       marzia has ligma lwiay  become sponsor httpsyo...\n",
      "1       this slinky montage is bizarrely satisfying to...\n",
      "2       making her dream come true make a wish it was ...\n",
      "3       science journalism crash course statistics  we...\n",
      "4       michelin and general motors unveil airless pun...\n",
      "                              ...                        \n",
      "7100    a relaxing time with just for men please subsc...\n",
      "7101    scientists prove beer lovers may be healthier ...\n",
      "7102    the evolution of fortnite    reacting to the e...\n",
      "7103    indias trucks are works of art why india’s tru...\n",
      "7104    several airlines change flight routes after ir...\n",
      "Length: 7105, dtype: object\n"
     ]
    }
   ],
   "source": [
    "#print(x_train)"
   ]
  },
  {
   "cell_type": "code",
   "execution_count": 24,
   "metadata": {},
   "outputs": [
    {
     "name": "stdout",
     "output_type": "stream",
     "text": [
      "0      fisherman catches neverbeforeseen sea creature...\n",
      "1      card throwing speed test in this bonus footage...\n",
      "2      nintendo labo for switch  circuit breaker live...\n",
      "3      gym logic these make no sense send video ideas...\n",
      "4      worst things that happened at walmart send vid...\n",
      "                             ...                        \n",
      "641    homeless person gets surprise of their lifetim...\n",
      "642    a farmer thought hed found an ancient relic  b...\n",
      "643    robbies voiceactivated room robbie has duchenn...\n",
      "644    summer vacation is for kids sign up for dropou...\n",
      "645     richest fortnite players in the world ninja t...\n",
      "Length: 646, dtype: object\n"
     ]
    }
   ],
   "source": [
    "#print(x_test)"
   ]
  },
  {
   "cell_type": "code",
   "execution_count": 25,
   "metadata": {},
   "outputs": [],
   "source": [
    "tVector=TfidfVectorizer()\n",
    "train_x=tVector.fit_transform(x_train)\n",
    "test_x=tVector.transform(x_test)\n",
    "train_arr=train_x.toarray()\n",
    "test_arr=test_x.toarray()"
   ]
  },
  {
   "cell_type": "markdown",
   "metadata": {},
   "source": [
    "# Prediction"
   ]
  },
  {
   "cell_type": "code",
   "execution_count": 26,
   "metadata": {},
   "outputs": [],
   "source": [
    "NB_MN=MultinomialNB()"
   ]
  },
  {
   "cell_type": "code",
   "execution_count": 27,
   "metadata": {},
   "outputs": [
    {
     "name": "stdout",
     "output_type": "stream",
     "text": [
      "[ True False False False False False  True False False False False False\n",
      " False False  True  True False False False  True  True  True False False\n",
      " False False False False  True  True False  True  True False False False\n",
      "  True False False  True  True  True  True False  True  True False False\n",
      " False False False False  True False False  True  True False False False\n",
      " False False False False False False  True False  True  True  True  True\n",
      " False False False False False  True  True False False  True  True  True\n",
      " False  True False False  True  True  True False  True  True False False\n",
      " False  True False  True False  True False False  True False False  True\n",
      " False  True  True False False False  True  True False False  True  True\n",
      "  True False  True  True False False  True  True  True False  True  True\n",
      " False False  True False False False  True  True False  True  True  True\n",
      "  True False  True False  True False False  True False  True False False\n",
      "  True  True False False False  True  True  True False False False False\n",
      " False False  True  True False False False  True False  True False False\n",
      " False  True  True False False  True False  True False False False  True\n",
      " False False False False  True  True False False False  True  True False\n",
      " False False  True False  True False  True  True  True False False  True\n",
      " False False  True  True  True False False False  True False  True  True\n",
      "  True  True  True  True  True  True False  True False  True  True False\n",
      "  True  True  True False  True False False False  True  True False  True\n",
      " False False  True  True  True  True False False  True False  True  True\n",
      " False False  True  True  True False  True  True  True  True False False\n",
      " False  True  True  True False False False False  True  True False False\n",
      " False  True  True False False False  True False False False  True False\n",
      "  True False  True False False False  True False False  True  True  True\n",
      "  True False  True False  True False  True  True False  True  True False\n",
      " False False False  True  True False  True False False False False  True\n",
      " False  True  True False  True False  True False False False  True False\n",
      " False False  True False  True  True False  True False False False False\n",
      "  True False  True False False False False False False False  True  True\n",
      "  True  True False False  True False False  True False  True False  True\n",
      "  True  True  True False False False False  True False  True  True  True\n",
      " False  True False False  True  True  True False False  True False False\n",
      "  True False False  True  True False False  True False False  True False\n",
      " False False  True False False False False  True False False False  True\n",
      " False  True False False  True  True  True False False False False False\n",
      " False False  True False  True False False  True  True False  True  True\n",
      "  True  True False  True  True False  True  True False False  True  True\n",
      " False  True  True  True  True  True False False False  True  True False\n",
      " False  True False  True  True False  True False False False  True False\n",
      " False False False  True  True  True False False False False  True  True\n",
      "  True False  True  True  True False  True  True  True  True False  True\n",
      " False  True False False False False  True  True  True False False  True\n",
      "  True  True  True  True  True False False False  True False  True  True\n",
      "  True  True  True  True False False  True False False  True  True  True\n",
      " False  True  True False  True  True False False False  True  True  True\n",
      " False False False False False False  True False  True False  True  True\n",
      "  True False False  True  True  True  True  True False  True  True False\n",
      " False  True  True  True False  True False  True False  True  True  True\n",
      "  True  True False  True  True  True  True  True  True False  True  True\n",
      "  True False  True  True  True False  True  True  True  True  True False\n",
      "  True False False False  True False  True  True  True False False  True\n",
      " False False  True  True False False  True False False  True]\n"
     ]
    }
   ],
   "source": [
    "NB_MN.fit(train_arr,y_train)\n",
    "prediction=NB_MN.predict(test_arr)\n",
    "print(prediction)"
   ]
  },
  {
   "cell_type": "code",
   "execution_count": 28,
   "metadata": {},
   "outputs": [
    {
     "data": {
      "text/plain": [
       "0.9980270574971815"
      ]
     },
     "execution_count": 28,
     "metadata": {},
     "output_type": "execute_result"
    }
   ],
   "source": [
    "train_prediction = NB_MN.predict(train_arr)\n",
    "f1_score(y_train, train_prediction)"
   ]
  },
  {
   "cell_type": "code",
   "execution_count": 31,
   "metadata": {},
   "outputs": [
    {
     "data": {
      "text/html": [
       "<div>\n",
       "<style scoped>\n",
       "    .dataframe tbody tr th:only-of-type {\n",
       "        vertical-align: middle;\n",
       "    }\n",
       "\n",
       "    .dataframe tbody tr th {\n",
       "        vertical-align: top;\n",
       "    }\n",
       "\n",
       "    .dataframe thead th {\n",
       "        text-align: right;\n",
       "    }\n",
       "</style>\n",
       "<table border=\"1\" class=\"dataframe\">\n",
       "  <thead>\n",
       "    <tr style=\"text-align: right;\">\n",
       "      <th></th>\n",
       "      <th>ID</th>\n",
       "      <th>class</th>\n",
       "    </tr>\n",
       "  </thead>\n",
       "  <tbody>\n",
       "    <tr>\n",
       "      <th>0</th>\n",
       "      <td>oRB8lJynqBA</td>\n",
       "      <td>True</td>\n",
       "    </tr>\n",
       "    <tr>\n",
       "      <th>1</th>\n",
       "      <td>of-UPoEnw_w</td>\n",
       "      <td>False</td>\n",
       "    </tr>\n",
       "    <tr>\n",
       "      <th>2</th>\n",
       "      <td>d28cz00HHto</td>\n",
       "      <td>False</td>\n",
       "    </tr>\n",
       "    <tr>\n",
       "      <th>3</th>\n",
       "      <td>Tftg_LnwTW0</td>\n",
       "      <td>False</td>\n",
       "    </tr>\n",
       "    <tr>\n",
       "      <th>4</th>\n",
       "      <td>qR0mkm65Whk</td>\n",
       "      <td>False</td>\n",
       "    </tr>\n",
       "  </tbody>\n",
       "</table>\n",
       "</div>"
      ],
      "text/plain": [
       "            ID  class\n",
       "0  oRB8lJynqBA   True\n",
       "1  of-UPoEnw_w  False\n",
       "2  d28cz00HHto  False\n",
       "3  Tftg_LnwTW0  False\n",
       "4  qR0mkm65Whk  False"
      ]
     },
     "execution_count": 31,
     "metadata": {},
     "output_type": "execute_result"
    }
   ],
   "source": [
    "test[\"class\"] = prediction\n",
    "test[\"class\"] = test[\"class\"].map(lambda x: \"True\" if x==1 else \"False\")\n",
    "result = test[[\"ID\",\"class\"]]\n",
    "result.head()"
   ]
  },
  {
   "cell_type": "code",
   "execution_count": 32,
   "metadata": {},
   "outputs": [],
   "source": [
    "result.to_csv(\"/Users/ziyu/Desktop/submission.csv\", index=False)"
   ]
  },
  {
   "cell_type": "code",
   "execution_count": null,
   "metadata": {},
   "outputs": [],
   "source": []
  }
 ],
 "metadata": {
  "kernelspec": {
   "display_name": "Python 3",
   "language": "python",
   "name": "python3"
  },
  "language_info": {
   "codemirror_mode": {
    "name": "ipython",
    "version": 3
   },
   "file_extension": ".py",
   "mimetype": "text/x-python",
   "name": "python",
   "nbconvert_exporter": "python",
   "pygments_lexer": "ipython3",
   "version": "3.8.3"
  }
 },
 "nbformat": 4,
 "nbformat_minor": 4
}
